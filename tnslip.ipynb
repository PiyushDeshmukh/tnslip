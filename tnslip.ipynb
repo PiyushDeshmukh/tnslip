{
 "cells": [
  {
   "cell_type": "markdown",
   "metadata": {},
   "source": [
    "# thenotsolongintroductiontopython\n",
    "\n",
    "Hello folks, This article is a short introduction to python, or rather should say not so long one. This article is a casual read, and has been written for those people who have prior knowledge in some other programming language. This read, was designed by keeping in mind about giving a gentle introduction of python to programmers, and from nowhere, it is supposed to replace a tutorial.\n"
   ]
  },
  {
   "cell_type": "markdown",
   "metadata": {},
   "source": [
    "Python was designed by [Guido Van Rossum](https://twitter.com/gvanrossum), who currently works at Dropbox, and is also known as BDFL, i.e. Benevolent Dictator For Life in the python community for his continues contributions in the process of Python development. Python is a multi-paradigm language, which was basically designed for ..... well idk, I can't see any specific area to point out, but can see almost everywhere."
   ]
  },
  {
   "cell_type": "markdown",
   "metadata": {},
   "source": [
    "Unless explicitly mentioned, all the code snippets are for python3. Lets start with the classic code sample, here is the hello world"
   ]
  },
  {
   "cell_type": "code",
   "execution_count": 4,
   "metadata": {
    "collapsed": false
   },
   "outputs": [
    {
     "name": "stdout",
     "output_type": "stream",
     "text": [
      "Hello, World!\n"
     ]
    }
   ],
   "source": [
    "print(\"Hello, World!\")"
   ]
  },
  {
   "cell_type": "markdown",
   "metadata": {},
   "source": [
    "Python `print` function is powerful, it has capability to dump almost everything to stdout, unlike C, C++, or JAVA where you need to break the complex data structure down to the built-in ones in order to display them. Actually, the fact is, built in data structures in python are real world and programmer friendly, causing you less trouble, we shall elaborate on these built-in types in a moment. Besides this, `print` function also provides you a bunch of other options so that the output is good to visualize."
   ]
  },
  {
   "cell_type": "code",
   "execution_count": 5,
   "metadata": {
    "collapsed": false
   },
   "outputs": [
    {
     "name": "stdout",
     "output_type": "stream",
     "text": [
      "Hello World from python 3!!"
     ]
    }
   ],
   "source": [
    "print(\"Hello\", \"World\", \"from\", \"python\", 3, sep = \" \", end = \"!!\")"
   ]
  },
  {
   "cell_type": "markdown",
   "metadata": {},
   "source": [
    "Did you look at that? Wasn't that impressive? A mixture of different datatypes can be printed by using a separator `sep` and an ending string `end`."
   ]
  },
  {
   "cell_type": "markdown",
   "metadata": {},
   "source": [
    "Just for the sake of information, the print statement in python2 has been [changed](https://www.python.org/dev/peps/pep-3105/) to the print function in python3. And one more thing, the last link points to a PEP, [Python Enhancement Proposals](https://www.python.org/dev/peps/), the name is self-explanatory, hope you land there after a few months of hard work!"
   ]
  },
  {
   "cell_type": "markdown",
   "metadata": {},
   "source": [
    "Oh lord, wait a minute, Did I say python2 and/or python3? I'm sorry, actually, there are lot of controversies on (or rather problems with) this topic, which one to choose, 2 or 3? So instead of you reading a lot of things on Internet about which one to choose, I would suggest that unless you are bound by some constraints always go with python3. If you looking forward to learn python, then python3 should be the choice. If you are going to develop something from scratch, do it in python3. However, in case you are working on something that requires support from a module that has been written for python2 and not python3, you don't have a choice. Developers don't switch to python3 because they don't want to break their code, because either the code has been written for python2 or it is dependent on modules designed for python2. FYI, linux ships with both python2 as well as python3, however, python2 is the default, and is recommended not to change it for the same reason.\n",
    "\n",
    "For more discussion, you can hear to [Kenneth Reitz](https://github.com/kennethreitz) on this [podcast](https://talkpython.fm/episodes/show/6/requests-pycon-and-python-s-future)."
   ]
  },
  {
   "cell_type": "markdown",
   "metadata": {},
   "source": [
    "Okay! Where were we? We were discussing the power of `print` function. Here is another one"
   ]
  },
  {
   "cell_type": "code",
   "execution_count": 6,
   "metadata": {
    "collapsed": false,
    "scrolled": true
   },
   "outputs": [
    {
     "name": "stdout",
     "output_type": "stream",
     "text": [
      "Sun rises in the east.\n",
      ".          Hello ...this is a separator... World__________.\n"
     ]
    }
   ],
   "source": [
    "print(\"{0} rises in the {1}.\".format('Sun', 'east'))\n",
    "print(\".{:>15} ...this is a separator... {:_<15}.\".format('Hello', 'World'))"
   ]
  },
  {
   "cell_type": "markdown",
   "metadata": {},
   "source": [
    "The later is good for aligning stuff in form of columns.\n",
    "\n",
    "In case, if you did not notice, the arguments to `format` function are in single quotes. This is because there is nothing like a character in python, instead strings are considered elementary types. `'a'` is similar to `\"a\"`, which is similar to `\"\"\"a\"\"\"` or `'''a'''`. But, you should use either single quotes or double quotes, just stick to the convention of when to use which. This helps when your string consists of double quotes or a single quotes, as you can use the other one to wrap it up, avoiding backslashes and increasing the readability. \n",
    "\n",
    "The triple quotes are used for docstrings. These are comments. Oops, sorry, not comments, actually more than comments. (Single line comments are followed by `#` symbol.) But [Docstrings](https://www.python.org/dev/peps/pep-0257/) are more than comments. They are special because you can access them with help of `__doc__` attribute associated with that object. Docstrings are written during writing a module(logically speaking here, it may be a class, package, method, function, or whatever), and they explain what the module does."
   ]
  },
  {
   "cell_type": "code",
   "execution_count": 7,
   "metadata": {
    "collapsed": false
   },
   "outputs": [
    {
     "name": "stdout",
     "output_type": "stream",
     "text": [
      "Checks if x is an integer and then returns its square, otherwise None.\n"
     ]
    }
   ],
   "source": [
    "import numbers\n",
    "\n",
    "def square(x):\n",
    "    \"\"\"Checks if x is an integer and then returns its square, otherwise None.\"\"\"\n",
    "    if isinstance(x, numbers.Integral):\n",
    "        return x*x\n",
    "    return None\n",
    "\n",
    "print(square.__doc__)"
   ]
  },
  {
   "cell_type": "markdown",
   "metadata": {},
   "source": [
    "Docstrings can be single line (the one shown above) or multiline (as shown below)."
   ]
  },
  {
   "cell_type": "code",
   "execution_count": 8,
   "metadata": {
    "collapsed": true
   },
   "outputs": [],
   "source": [
    "def square():\n",
    "    \"\"\"This is a multiline docstring. This can be big and can go across lines,\n",
    "    just like this one. All the docstrings greater than 72 characters should go into a\n",
    "    multiline docstring, and not in one line.\n",
    "    \"\"\"\n",
    "    pass"
   ]
  },
  {
   "cell_type": "markdown",
   "metadata": {},
   "source": [
    "We have seen a function here, we shall be back on it later. Lets keep exploring other built-in types.\n",
    "\n",
    "We have Booleans from class 'bool' which can be either `True` or `False`. Similarly, there are numeric types `int`, `long`, `float`, and `complex`. `complex` is notable here."
   ]
  },
  {
   "cell_type": "code",
   "execution_count": 9,
   "metadata": {
    "collapsed": false
   },
   "outputs": [
    {
     "name": "stdout",
     "output_type": "stream",
     "text": [
      "(5.2-4j)\n",
      "(5+0j)\n",
      "0j\n"
     ]
    }
   ],
   "source": [
    "print(complex(5.2, -4))\n",
    "print(complex(5))\n",
    "print(complex(0))"
   ]
  },
  {
   "cell_type": "markdown",
   "metadata": {},
   "source": [
    "Besides these, there are byte arrays. But we won't be focusing on them. Some others are more popular. Lets have a look at `list`. Lists are simply collection of elements. Lists are by far one of the most powerful data structures I have seen in any language."
   ]
  },
  {
   "cell_type": "code",
   "execution_count": 10,
   "metadata": {
    "collapsed": false
   },
   "outputs": [
    {
     "name": "stdout",
     "output_type": "stream",
     "text": [
      "[0, 1, 2, 'Sun', 'moon', True, 3.1415]\n",
      "[0, 1, False, 'Sun', 'moon', True, 3.1415]\n",
      "[1, False, 'Sun', 'moon', True, 3.1415]\n"
     ]
    }
   ],
   "source": [
    "fancy_list = [0, 1, 2, \"Sun\", \"moon\", True]\n",
    "fancy_list.append(3.1415)\n",
    "print(fancy_list)\n",
    "fancy_list[2] = False\n",
    "print(fancy_list)\n",
    "fancy_list.remove(0)\n",
    "print(fancy_list)"
   ]
  },
  {
   "cell_type": "markdown",
   "metadata": {},
   "source": [
    "When said collection of elements, then its literally a collection. This collection has no restriction on types, unlike traditional languages which have arrays which consists of only similar type elements. You can append things to list, lists are mutable, so you can change any element by random access (index starts with 0). Besides these, lists also support slicing, i.e. you can select lists partially like `list_name[starting_index:ending_index:steps]`, here starting_index is inclusive while ending_index is exclusive."
   ]
  },
  {
   "cell_type": "code",
   "execution_count": 11,
   "metadata": {
    "collapsed": false,
    "scrolled": true
   },
   "outputs": [
    {
     "name": "stdout",
     "output_type": "stream",
     "text": [
      "Sun\n",
      "[2, 'Sun', [100, 101], 'moon', True, False, 3.1415, 'sunday']\n",
      "[0, 1, 2, 'Sun', [100, 101]]\n",
      "[0, 2, [100, 101], True]\n",
      "['sunday', 3.1415, False, True, 'moon', [100, 101], 'Sun', 2, 1, 0]\n",
      "[0, 1, 2, 'saturday', 'sunday']\n"
     ]
    }
   ],
   "source": [
    "fancy_list = [0, 1, 2, \"Sun\", [100, 101] ,\"moon\", True, False, 3.1415, \"sunday\"]\n",
    "days = [\"saturday\", \"sunday\"]\n",
    "print(fancy_list[3])                          # random access\n",
    "print(fancy_list[2:])                         # everything after 2nd index(inclusive)\n",
    "print(fancy_list[:5])                         # everything uptil 5th index(exclusive)\n",
    "print(fancy_list[0:8:2])                      # from 0th to 7th index, pick everything by steps of 2 (inclusive)\n",
    "print(fancy_list[::-1])                       # reversed list\n",
    "print(fancy_list[:3] + days)                  # you can combine(not exactly combine) arrays"
   ]
  },
  {
   "cell_type": "markdown",
   "metadata": {},
   "source": [
    "But lists have to badly pay for all these features and flexibility. They consume a lot of memory space in order to provide efficient functionality of so many features. If you wish to reduce the memory consumption (and to a certain extent the time complexity), then you have some other options too. You can use the [array](https://docs.python.org/3/library/array.html) module if you wish to interface with C. In other cases, you can choose the [array](https://docs.scipy.org/doc/numpy-1.10.0/reference/generated/numpy.array.html) from the numpy module, which itself is pretty efficient. Going a step further, we have [numexpr](https://github.com/pydata/numexpr) which does better cache utilization and uses multi-threading capabilities to accelerate the evaluation of long arrays!"
   ]
  },
  {
   "cell_type": "markdown",
   "metadata": {},
   "source": [
    "[Tuples](https://docs.python.org/3.5/library/stdtypes.html#tuple) are another built-in types that are completely identical to lists, except that they are immutable, i.e. the values of its elements can't be changed. The benefit of immutable objects is that you can have a fixed memory allocated to them and you need not to worry about modification of its contents further during the execution. This also makes tuples [faster](http://stackoverflow.com/a/3340881) than lists.\n",
    "\n",
    "You use parenthesis instead of square brackets in tuples."
   ]
  },
  {
   "cell_type": "code",
   "execution_count": 12,
   "metadata": {
    "collapsed": false
   },
   "outputs": [
    {
     "name": "stdout",
     "output_type": "stream",
     "text": [
      "(8, 13, 21)\n",
      "2\n",
      "['__add__', '__class__', '__contains__', '__delattr__', '__dir__', '__doc__', '__eq__', '__format__', '__ge__', '__getattribute__', '__getitem__', '__getnewargs__', '__gt__', '__hash__', '__init__', '__iter__', '__le__', '__len__', '__lt__', '__mul__', '__ne__', '__new__', '__reduce__', '__reduce_ex__', '__repr__', '__rmul__', '__setattr__', '__sizeof__', '__str__', '__subclasshook__', 'count', 'index']\n"
     ]
    }
   ],
   "source": [
    "fancy_tuple = (5, 8, 13, 21, \"34\")\n",
    "print(fancy_tuple[1:4])                         #slicing the tuple\n",
    "print(fancy_tuple.index(13))                    #get index of an element\n",
    "print(dir(fancy_tuple))                         #print all attributes associated to the object passed to dir()"
   ]
  },
  {
   "cell_type": "markdown",
   "metadata": {},
   "source": [
    "The last statement displays all the attributes that are associated to the object which has been passed to `dir` function.\n",
    "\n",
    "The interesting thing that python provides here is tuple unpacking, i.e. you can expect multiple things from RHS to get assigned to multiple things on LHS. Lets see this in action."
   ]
  },
  {
   "cell_type": "code",
   "execution_count": 13,
   "metadata": {
    "collapsed": false
   },
   "outputs": [
    {
     "name": "stdout",
     "output_type": "stream",
     "text": [
      "5  |  [8, 13, 21]  |  34\n",
      "5  |  [8, 13, 21]  |  34\n",
      "1 2 3 7\n"
     ]
    }
   ],
   "source": [
    "fancy_tuple = (5, 8, 13, 21, \"34\")\n",
    "first, *middle, last = fancy_tuple              # paritioning tuple into first, middle, and last\n",
    "print(first, \" | \", middle, \" | \", last)\n",
    "first, *_, last = fancy_tuple                   # use underscore for a throwaway variable\n",
    "print(first, \" | \", middle, \" | \", last)\n",
    "nested_list = [[1,2,3], 4, 5, 6, 7]\n",
    "(a, b, c), *_, d = nested_list                  # nested structures can also be unpacked!\n",
    "print(a, b, c, d)"
   ]
  },
  {
   "cell_type": "markdown",
   "metadata": {},
   "source": [
    "Just make sure that you don't create ambiguity, unpacking is deterministic, that's why python doesn't expect you to have 2 or more starred expressions. These tricks can be used in case of swapping the elements, it looks simple, clear, and concise."
   ]
  },
  {
   "cell_type": "code",
   "execution_count": 14,
   "metadata": {
    "collapsed": false
   },
   "outputs": [
    {
     "name": "stdout",
     "output_type": "stream",
     "text": [
      "5 7\n",
      "7 5\n"
     ]
    }
   ],
   "source": [
    "a = 5\n",
    "b = 7\n",
    "print(a, b)\n",
    "a, b = b, a\n",
    "print(a, b)"
   ]
  },
  {
   "cell_type": "markdown",
   "metadata": {},
   "source": [
    "This is how python enhances readability. The same can be used to generate a fibonacci series."
   ]
  },
  {
   "cell_type": "code",
   "execution_count": 15,
   "metadata": {
    "collapsed": false
   },
   "outputs": [
    {
     "name": "stdout",
     "output_type": "stream",
     "text": [
      "0\n",
      "1\n",
      "1\n",
      "2\n",
      "3\n",
      "5\n",
      "8\n",
      "13\n",
      "21\n",
      "34\n",
      "55\n"
     ]
    }
   ],
   "source": [
    "first = 0\n",
    "second = 1\n",
    "print(first)\n",
    "for num in range(10):\n",
    "    print(second)\n",
    "    first, second = second, first + second  "
   ]
  },
  {
   "cell_type": "markdown",
   "metadata": {},
   "source": [
    "Now before discussing dictionaries, let me clear some pending explanations from the above code snippets. Firstly, we use indentation in python to mark nesting of statements, for instance, look at the `for` loop above. The block is indented using [4](https://www.python.org/dev/peps/pep-0008/#indentation) spaces. The best practice is to use spaces for indenting, although I always hit the tab key, but I make sure that my editor does the conversion to spaces for me. The bad habit would be to use tab. And the worst one would be to use mixture of both tabs and spaces!\n",
    "\n",
    "If you may have noticed, we have a `range` called in the `for` construct. It returns a list, the code below should help you understand this."
   ]
  },
  {
   "cell_type": "code",
   "execution_count": 16,
   "metadata": {
    "collapsed": false
   },
   "outputs": [
    {
     "name": "stdout",
     "output_type": "stream",
     "text": [
      "[0, 1, 2, 3, 4, 5, 6, 7, 8, 9]\n",
      "[5, 6, 7, 8, 9, 10, 11, 12, 13, 14]\n",
      "[5, 7, 9, 11, 13]\n",
      "[15, 14, 13, 12, 11, 10, 9, 8, 7, 6]\n",
      "I know I have cheated there, but I shall cover it up when I discuss generators!\n"
     ]
    }
   ],
   "source": [
    "print(list(range(10)))\n",
    "print(list(range(5, 15)))\n",
    "print(list(range(5, 15, 2)))\n",
    "print(list(range(15, 5, -1)))\n",
    "print(\"I know I have cheated there, but I shall cover it up when I discuss generators!\")    # ignore this"
   ]
  },
  {
   "cell_type": "markdown",
   "metadata": {},
   "source": [
    "`range()` function represents data like an [Arithmetic Progression](https://en.wikipedia.org/wiki/Arithmetic_progression). It has a form like `range(starting_number, ending_number, common_difference)`.\n",
    "\n",
    "The other widely used type is dictionary, it is a mapping of a key to a value. You can access the value by specifying the key as index, in almost constant time. Python dictionary is internally implemented as hash table which is stored in contiguous block of memory. Collisions are generally resolved by linear probing, CPython does this pseudorandomly. Lets not focus on [internal implementation](https://youtu.be/C4Kc8xzcA68) and turn our attention to the usage."
   ]
  },
  {
   "cell_type": "code",
   "execution_count": 17,
   "metadata": {
    "collapsed": false
   },
   "outputs": [
    {
     "name": "stdout",
     "output_type": "stream",
     "text": [
      "Asia\n",
      "country not found!\n",
      "dict_keys(['Canada', 'Russia', 'Sweden', 'China', 'USA'])\n",
      "dict_values(['NA', ['Asia', 'Europe'], 'Europe', 'Asia', 'NA'])\n",
      "dict_items([('Canada', 'NA'), ('Russia', ['Asia', 'Europe']), ('Sweden', 'Europe'), ('China', 'Asia'), ('USA', 'NA')])\n",
      "{'USA', 'Russia'}\n",
      "{'Argentina', 'India', 'France', 'Spain', 'Brazil', 'South Africa'}\n"
     ]
    }
   ],
   "source": [
    "world = {\"India\": \"Asia\", \"Russia\": [\"Asia\", \"Europe\"], \"Spain\": \"Europe\", \"Argentina\": \"SA\", \"USA\": \"NA\", \"Brazil\":\"SA\", \"France\": \"Europe\", \"South Africa\": \"Africa\"}\n",
    "north = {\"Russia\": [\"Asia\", \"Europe\"], \"China\": \"Asia\", \"Canada\": \"NA\", \"USA\": \"NA\", \"Sweden\": \"Europe\"}\n",
    "print(world[\"India\"])                                     # Retrieve value using a key\n",
    "print(world.get(\"Australia\", \"country not found!\"))       # get() method allows you to specify default value if key is not found in dictionary\n",
    "print(north.keys())                                       # display all keys\n",
    "print(north.values())                                     # display all values\n",
    "print(north.items())                                      # display key-value pairs\n",
    "print(world.keys() & north.keys())                        # find common keys in 2 dictionaries\n",
    "print(world.keys() - north.keys())                        # find keys in world that are not in north"
   ]
  },
  {
   "cell_type": "markdown",
   "metadata": {},
   "source": [
    "These sort of operations can be used to filter the contents of the dictionary. For eg, if we want all countries except  `\"India\"` and `\"USA\"`, then we do"
   ]
  },
  {
   "cell_type": "code",
   "execution_count": 18,
   "metadata": {
    "collapsed": false
   },
   "outputs": [
    {
     "name": "stdout",
     "output_type": "stream",
     "text": [
      "{'South Africa': 'Africa', 'Spain': 'Europe', 'Argentina': 'SA', 'Brazil': 'SA', 'Russia': ['Asia', 'Europe'], 'France': 'Europe'}\n"
     ]
    }
   ],
   "source": [
    "world = {\"India\": \"Asia\", \"Russia\": [\"Asia\", \"Europe\"], \"Spain\": \"Europe\", \"Argentina\": \"SA\", \"USA\": \"NA\", \"Brazil\":\"SA\", \"France\": \"Europe\", \"South Africa\": \"Africa\"}\n",
    "print({key:world[key] for key in world.keys() - {\"India\", \"USA\"}})"
   ]
  },
  {
   "cell_type": "markdown",
   "metadata": {},
   "source": [
    "Did you notice the value associated with `\"Russia\"`? It is a list! This means you can map any object to a key in a dictionary. Can you guess where does this become handy, mixture of lists and dictionaries? Yes, json! Managing json data fetched from various web APIs becomes very simple.\n",
    "\n",
    "This was what I meant when I said data is stored in programmer friendly(or rather easy to use) format.\n",
    "\n",
    "Like tuple unpacking, there is [dictionary unpacking](https://www.python.org/dev/peps/pep-0448/) too(from python3.5)! There also exist [sets](https://docs.python.org/3.5/library/stdtypes.html#set) which work as usual. They are also internally implemented as hash tables, and hence, give O(1) lookup time at average. You can find union, intersection, and symmetric difference of 2 sets. Set also has attributes to check whether another set is its subset or a superset.\n",
    "\n",
    "Now the fun part, the keys to a dictionary can be anything which is immutable, for eg strings in the above code. But since tuples are also immutable, so we can give them a chance too!\n",
    "\n",
    "Consider the following dictionary of points, that tells the quadrant in which the point lies."
   ]
  },
  {
   "cell_type": "code",
   "execution_count": null,
   "metadata": {
    "collapsed": true
   },
   "outputs": [],
   "source": [
    "quadrant = {}\n",
    "quadrant[1, 2] = 'I'\n",
    "quadrant[1, 1] = 'I'\n",
    "quadrant[-1, 1] = 'IV'\n",
    "quadrant[-1, -2] = 'III'\n",
    "quadrant[1, -1] = 'II'\n",
    "print(quadrant)"
   ]
  },
  {
   "cell_type": "markdown",
   "metadata": {},
   "source": [
    "The tuple provided as the key, need not to limit its size to 2, it can be as big as possible. So a key of tuple of size 3 would look like `octant[5, 6, -7] = 'V'`. I think that's enough on dictionaries, probably wee should move forward now."
   ]
  },
  {
   "cell_type": "markdown",
   "metadata": {},
   "source": [
    "Everything in python is an object, I mean, everything in python is internally implemented as an object. As a consequence, they have attributes associated with them, you can have a list of those using `dir()`."
   ]
  },
  {
   "cell_type": "markdown",
   "metadata": {},
   "source": [
    "Python is strongly typed language and it does not do implicit type conversions. It is expected from the programmer to do all the type castings explicitly so that it is always clear what sort of data object has been binded to a variable. For instance, when you do `int(\"42\")`, you know the obtained value is an integer, and if `float(\"3.1415)`, then the obtained value is float. "
   ]
  },
  {
   "cell_type": "markdown",
   "metadata": {},
   "source": [
    "This is one of the key principles on which the language was built. As [The Zen of Python](https://www.python.org/dev/peps/pep-0020/) states, \"Explicit is better than implicit.\" This not only deals with explicit type casting, but a programming habit to do anything explicitly, like passing errors or declaring namespaces, a word on both of these later.\n",
    "\n",
    "PEP20 deals with preferred way of doing things with python. PEP20 has 20, sorry 19, such good habits expected to be encorporated by the programmers. The 1, in my opinion, has probably been left by keeping in mind that such a list can never be completed as there is no perfect way of doing one thing. So they wanted to give a space to that futuristic way that does something in a more better way, the more pythonic way! I will try to illustrate each of them(19) or atleast tell you about before we encounter EOF."
   ]
  },
  {
   "cell_type": "markdown",
   "metadata": {},
   "source": [
    "Okay, Lets look at some other things from the clutter that we should have picked up by now. Python comes with a Read Evaluate Print Loop(REPL), which allows programmer to test short code snippets. So, open the terminal, type `python3`, and start playing around with whatever comes next.\n",
    "\n",
    "Comparison operators are as usual. Additionally `==` operator checks for equivalence of values. There also exists `is` operator that checks for identity equivalence. Everything in python is an object. Each object has its identity which is returned by [id()](https://docs.python.org/2/library/functions.html#id) function as long integer, passing that object as its argument. Identity of an object in python is analogous to a memory location in C. So it is possible for 2 identifiers to have same identity, but not always!"
   ]
  },
  {
   "cell_type": "code",
   "execution_count": 19,
   "metadata": {
    "collapsed": false
   },
   "outputs": [
    {
     "name": "stdout",
     "output_type": "stream",
     "text": [
      "139987176560712\n",
      "139987176667992\n",
      "True\n",
      "False\n"
     ]
    }
   ],
   "source": [
    "s = \"the quick brown fox jumps over the lazy dog\"\n",
    "a = \"the\"\n",
    "b = s.split(' ')[0]\n",
    "print(id(a))\n",
    "print(id(b))\n",
    "print(a == b)\n",
    "print(a is b)"
   ]
  },
  {
   "cell_type": "markdown",
   "metadata": {},
   "source": [
    "So always use `==` when comparing values and `is` when comparing identities. Actually in python, we don't have variables storing some values in them, instead we have names which are nothing but just a binding to some data value which is stored in the memory. So names and their bindings to some data are like many to one mapping i.e. we can have multiple names bound to the same data, as in the case when `a = 5` and then `b = a`. If in the code later, we change `b` to 7, then the object bound to `a` also changes its value(in fact it is the same object).\n",
    "\n",
    "We have another operator, known as the membership operator `in`. This example is self-explanatory."
   ]
  },
  {
   "cell_type": "code",
   "execution_count": 20,
   "metadata": {
    "collapsed": false
   },
   "outputs": [
    {
     "name": "stdout",
     "output_type": "stream",
     "text": [
      "True\n",
      "True\n",
      "False\n",
      "True\n"
     ]
    }
   ],
   "source": [
    "print(5 in [1, 2, 3, 5, \"wow\"])\n",
    "print(\"Star\" in {\"Star\": [\"Sun\"], \"Planets\": [\"Earth\", \"Mars\", \"Jupiter\"]})\n",
    "print(5 in range(5))\n",
    "print(5 in {1,2,3,4,5})"
   ]
  },
  {
   "cell_type": "markdown",
   "metadata": {},
   "source": [
    "There also exists a built-in constant, instance of a `NoneType` class, `None`, which is used to \"represent the absence of a value, as when default arguments are not passed to a function\", as the documentation states. It is equivalent to `NULL` or `nil` or whatever similar you have encountered till yet.\n",
    "\n",
    "Available boolean operators are `not`, `and`, `or` in the descending order of priority, with the later 2 being short-circuit operators."
   ]
  },
  {
   "cell_type": "markdown",
   "metadata": {},
   "source": [
    "We have a straightforward `if` construct, `if-elif-else`, where `elif`(stands for \"else if\") and `else`, both are optional. For the truth value testing,"
   ]
  },
  {
   "cell_type": "code",
   "execution_count": 21,
   "metadata": {
    "collapsed": true
   },
   "outputs": [],
   "source": [
    "# The prefered way is\n",
    "val1 = True\n",
    "val2 = False\n",
    "if val1:\n",
    "    pass\n",
    "elif not val2:\n",
    "    pass\n",
    "else:\n",
    "    pass\n",
    "\n",
    "# This is not the prefered way\n",
    "if val == True:\n",
    "    pass"
   ]
  },
  {
   "cell_type": "markdown",
   "metadata": {},
   "source": [
    "The same convention goes with the while loop. We have a for statement too, which is generally used to iterate over a sequence."
   ]
  },
  {
   "cell_type": "code",
   "execution_count": 22,
   "metadata": {
    "collapsed": false
   },
   "outputs": [
    {
     "name": "stdout",
     "output_type": "stream",
     "text": [
      "Mercury\n",
      "Venus\n",
      "Earth\n",
      "Mars\n",
      "Jupiter\n",
      "Saturn\n",
      "0\n",
      "1\n",
      "2\n",
      "3\n",
      "4\n"
     ]
    }
   ],
   "source": [
    "planets = [\"Mercury\", \"Venus\", \"Earth\", \"Mars\", \"Jupiter\", \"Saturn\"]\n",
    "for i in planets:\n",
    "    print(i)\n",
    "for i in range(5):\n",
    "    print(i)"
   ]
  },
  {
   "cell_type": "markdown",
   "metadata": {},
   "source": [
    "However, this does not provide you with the index number when using for contruct. So, there exists a better way to do so."
   ]
  },
  {
   "cell_type": "code",
   "execution_count": 23,
   "metadata": {
    "collapsed": false
   },
   "outputs": [
    {
     "name": "stdout",
     "output_type": "stream",
     "text": [
      "0 Mercury\n",
      "1 Venus\n",
      "2 Earth\n",
      "3 Mars\n",
      "4 Jupiter\n",
      "5 Saturn\n",
      "Mercury\n",
      "Venus\n",
      "Earth\n",
      "Mars\n",
      "Jupiter\n",
      "Saturn\n"
     ]
    }
   ],
   "source": [
    "# The preferable way\n",
    "planets = [\"Mercury\", \"Venus\", \"Earth\", \"Mars\", \"Jupiter\", \"Saturn\"]\n",
    "for index, value in enumerate(planets):\n",
    "    print(index, value)\n",
    "# Avoid doing this\n",
    "for i in range(6):\n",
    "    print(planets[i])"
   ]
  },
  {
   "cell_type": "markdown",
   "metadata": {},
   "source": [
    "You can also use `for` to generate initial lists. This way is generally prefered in python. Whenever I say generally prefered in python, that means it is the pythonic way of doing things. There is always a particular way of solving problems in each language, not exactly a way, but a preferable choice of writing the code if there exist more than one way of achieving something. And probably, this is the point where I lack, so if you find something wrong, please notify me or push a commit to [myrepo](https://github.com/PiyushDeshmukh/tnslip). So here is how you can make lists so that you can use it further in your code."
   ]
  },
  {
   "cell_type": "code",
   "execution_count": 24,
   "metadata": {
    "collapsed": false
   },
   "outputs": [
    {
     "name": "stdout",
     "output_type": "stream",
     "text": [
      "[0, 1, 4, 9, 16, 25, 36, 49, 64, 81, 100, 121, 144, 169, 196, 225, 256, 289, 324, 361]\n",
      "[121, 144, 169, 196, 225, 256, 289, 324, 361]\n",
      "[[True, True, True, True], [True, True, True, True], [True, True, True, True], [True, True, True, True], [True, True, True, True]]\n"
     ]
    }
   ],
   "source": [
    "squares = [i*i for i in range(20)]                          # squares of non-negative numbers upto 19\n",
    "squaresgt10 = [i*i for i in range(20) if i > 10]            # squares of numbers [11, 20)\n",
    "matrix = [[True for col in range(4)] for row in range(5)]   # 5by4 matrix with all values True\n",
    "print(squares)\n",
    "print(squaresgt10)\n",
    "print(matrix)"
   ]
  },
  {
   "cell_type": "markdown",
   "metadata": {},
   "source": [
    "In this way, you can have one liner for generating lists, that too which is pretty clear to read and understand. When it comes to readaibility, its always a good idea to divide your code into logical modules(or may be I mean functions here). This means that particular group of lines does some particular stuff, which is logically separated from other group of lines. The implementation of this(phenomenon generally termed as modularity) is done by using functions. On a bigger scale, we can talk about dedicating a class, or a module(analogous to package or library) in the same way, so that a complex functionality is broken down to some short pieces of code, again to enhance the readability and making it less mess for programmers to work with complex systems."
   ]
  },
  {
   "cell_type": "markdown",
   "metadata": {},
   "source": [
    "Functions are declared using `def` keyword, and as usual, the body is indented. Functions can take parameters, but are not mandatory. Functions can return a value. The moment a function returns a value, its execution stops and the corresponding values on the stack are erased. Hence, all the variables in function scope turn out of existence."
   ]
  },
  {
   "cell_type": "code",
   "execution_count": 4,
   "metadata": {
    "collapsed": true
   },
   "outputs": [
    {
     "name": "stdout",
     "output_type": "stream",
     "text": [
      "This is fizzbuzz test\n",
      "Fizz Buzz\n",
      "1\n",
      "2\n",
      "Fizz\n",
      "4\n",
      "Buzz\n",
      "Fizz\n",
      "7\n",
      "8\n",
      "Fizz\n",
      "Buzz\n",
      "11\n",
      "Fizz\n",
      "13\n",
      "14\n",
      "Fizz Buzz\n",
      "16\n",
      "17\n",
      "Fizz\n",
      "19\n",
      "Done\n"
     ]
    }
   ],
   "source": [
    "def fizzbuzz(n):\n",
    "    for i in range(n):\n",
    "        print(\"Fizz\"*(i%3 == 0) + \" \"*(i%15 == 0) + \"Buzz\"*(i%5 == 0) or str(i))\n",
    "    return \"Done\"\n",
    "\n",
    "if __name__ == '__main__':\n",
    "    print(\"This is fizzbuzz test\")\n",
    "    result = fizzbuzz(20)\n",
    "    print(result)"
   ]
  },
  {
   "cell_type": "markdown",
   "metadata": {},
   "source": [
    "The good thing about python is that you can change the sequence of arguments passed if you mention them explicitly during the call."
   ]
  },
  {
   "cell_type": "markdown",
   "metadata": {},
   "source": [
    "Another interesting feature of python is that it allows you to pause and resume the execution of a function. Such a construct is rather termed  as generator. A generator is differentaited from a function from the keyword `yield`. The `yield` statement basically allows you to pause the execution of a function by returning a value to the calling statement. Then the control flow goes as usual unless the function is called again. This time, when the function is called, the function resumes its execution from the statement right next where it paused earlier, and then continues the execution unless it encounters the next yield statement. It should be noted that the variables in the function scope retain their latest values everytime. So if a variable has been modified earlier, then its modiffied value is available to us everytime we call the function (and ofc unless we modify it again).\n",
    "\n",
    "This is how we can get a fibonacci series from a generator."
   ]
  },
  {
   "cell_type": "code",
   "execution_count": 5,
   "metadata": {
    "collapsed": false
   },
   "outputs": [
    {
     "name": "stdout",
     "output_type": "stream",
     "text": [
      "<generator object fib at 0x7f6f40174990>\n",
      "1\n",
      "1\n",
      "2\n",
      "3\n",
      "5\n",
      "8\n",
      "13\n"
     ]
    }
   ],
   "source": [
    "def fib(n):\n",
    "    first = 0\n",
    "    second = 1\n",
    "    yield second\n",
    "    for i in range(n-1):\n",
    "        first, second = second, first + second\n",
    "        yield second\n",
    "\n",
    "print(fib(7))\n",
    "for num in fib(7):\n",
    "    print(num)"
   ]
  },
  {
   "cell_type": "markdown",
   "metadata": {},
   "source": [
    "As shown above, a call to a generator yields a generator object. However, in order to use it, one of the best practices is to use it as an iterator from a `for` loop. The `for` loop is again special in this sense because it automatically calls the next execution of the generator everytime it tends to make a new iteration."
   ]
  },
  {
   "cell_type": "markdown",
   "metadata": {},
   "source": [
    "Generators become handy in cases when you want to consume less memory. For instance, if you call the `fib()` function to return many fibonacci numbers, like greater than a million, you obviously don't want it to return a list, as it shall make a huge memory consumption, instead you find for something that can return you the next fibonacci number whenever required on the fly, this way you can perform even better in terms of memory. This can easily be achieved with the help of generators, however, you get a drawback of this. As there is always a tradeoff, you pay for time when you attempt to reduce memory consumption. The same goes with the use of generators where you pay for speed because everytime you demand for the next returned value, the execution of the generator is resumed and carried out. Therefore, before it can continue executing current instructions, your CPU executes the instructions inside the generator to obtain the next value demanded dynamically. Later when it encounters the `yield` statement, it continues the execution from just after where the call was made."
   ]
  },
  {
   "cell_type": "markdown",
   "metadata": {},
   "source": [
    "So now the question comes, how often do we use generators in real life? And the answer is Frequently! Did you remember the `range()` function we discussed earlier? My apologies, I cheated there! It isn't a function, it is a generator!\n",
    "\n",
    "The truth is, we have 2 things in python2, first is the `range()` which is a function, and second is the `xrange()` which is a generator. But when we move to python3, `xrange()` has been removed, and `range()` exists as a generator.\n"
   ]
  },
  {
   "cell_type": "markdown",
   "metadata": {},
   "source": [
    "## abouttheauthor\n",
    "\n",
    "I am Piyush Deshmukh, I am an undergrad student from India. What drives me to write this article is my passion towards learning and my love for python(3). I have been programming since my high school. Please visit my [profile](https://piyushdeshmukh.github.io) if you want to be in touch."
   ]
  }
 ],
 "metadata": {
  "author": "Piyush Deshmukh",
  "email": "p.desh31@gmail.com",
  "kernelspec": {
   "display_name": "Python 3",
   "language": "python",
   "name": "python3"
  },
  "language_info": {
   "codemirror_mode": {
    "name": "ipython",
    "version": 3
   },
   "file_extension": ".py",
   "mimetype": "text/x-python",
   "name": "python",
   "nbconvert_exporter": "python",
   "pygments_lexer": "ipython3",
   "version": "3.4.3"
  },
  "link": "piyushdeshmukh.github.io"
 },
 "nbformat": 4,
 "nbformat_minor": 0
}
